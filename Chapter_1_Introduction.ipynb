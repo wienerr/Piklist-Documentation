{
  "nbformat": 4,
  "nbformat_minor": 0,
  "metadata": {
    "colab": {
      "name": "Chapter 1 Introduction.ipynb",
      "provenance": [],
      "collapsed_sections": [
        "UhiG2Sf53YrV"
      ],
      "mount_file_id": "https://gist.github.com/wienerr/130a45d1073d381b8c65f0f0e10012a6#file-untitled0-ipynb",
      "authorship_tag": "ABX9TyOmk7Zb8jATTx2NrDuCVYv0"
    },
    "kernelspec": {
      "name": "python3",
      "display_name": "Python 3"
    }
  },
  "cells": [
    {
      "cell_type": "markdown",
      "metadata": {
        "id": "UhiG2Sf53YrV",
        "colab_type": "text"
      },
      "source": [
        "#First Program"
      ]
    },
    {
      "cell_type": "code",
      "metadata": {
        "id": "D_Oiegu43lAP",
        "colab_type": "code",
        "colab": {}
      },
      "source": [
        "# First Program\n",
        "x = 2\n",
        "x = x + 2\n",
        "print(x)"
      ],
      "execution_count": null,
      "outputs": []
    },
    {
      "cell_type": "markdown",
      "metadata": {
        "id": "daPybTD357ev",
        "colab_type": "text"
      },
      "source": [
        "# Blast Off"
      ]
    },
    {
      "cell_type": "code",
      "metadata": {
        "id": "UHVfY_VN6-7c",
        "colab_type": "code",
        "colab": {
          "base_uri": "https://localhost:8080/",
          "height": 122
        },
        "outputId": "03a9d88e-b26f-4bf8-c318-d0a02249f0d8"
      },
      "source": [
        "#Blast Off\n",
        "n = 5\n",
        "while n > 0 :\n",
        "    print(n)\n",
        "    n = n - 1\n",
        "print('Blastoff!')"
      ],
      "execution_count": 7,
      "outputs": [
        {
          "output_type": "stream",
          "text": [
            "5\n",
            "4\n",
            "3\n",
            "2\n",
            "1\n",
            "Blastoff!\n"
          ],
          "name": "stdout"
        }
      ]
    }
  ]
}